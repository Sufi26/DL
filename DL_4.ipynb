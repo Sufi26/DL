{
  "nbformat": 4,
  "nbformat_minor": 0,
  "metadata": {
    "colab": {
      "provenance": [],
      "authorship_tag": "ABX9TyPD6qQttV+77z/ABE9BeFA2",
      "include_colab_link": true
    },
    "kernelspec": {
      "name": "python3",
      "display_name": "Python 3"
    },
    "language_info": {
      "name": "python"
    }
  },
  "cells": [
    {
      "cell_type": "markdown",
      "metadata": {
        "id": "view-in-github",
        "colab_type": "text"
      },
      "source": [
        "<a href=\"https://colab.research.google.com/github/Sufi26/DL/blob/main/DL_4.ipynb\" target=\"_parent\"><img src=\"https://colab.research.google.com/assets/colab-badge.svg\" alt=\"Open In Colab\"/></a>"
      ]
    },
    {
      "cell_type": "code",
      "execution_count": 2,
      "metadata": {
        "id": "43ss_F22FtOq"
      },
      "outputs": [],
      "source": [
        "#Use Autoencoder to implement anomaly detection. Build the model by using:\n",
        "#a. Import required libraries\n",
        "\n",
        "#c. Encoder converts it into latent representation\n",
        "\n",
        "#d. Decoder networks convert it back to the original input\n",
        "\n",
        "#e. Compile the models with Optimizer, Loss, and Evaluation Metrics\n",
        "\n"
      ]
    },
    {
      "cell_type": "code",
      "source": [
        "import keras\n",
        "from keras import layers"
      ],
      "metadata": {
        "id": "wqI1QhnGF6Px"
      },
      "execution_count": 3,
      "outputs": []
    },
    {
      "cell_type": "code",
      "source": [
        "# This is the size of our encoded representations\n",
        "encoding_dim = 32  # 32 floats -> compression of factor 24.5, assuming the input is 784 floats\n"
      ],
      "metadata": {
        "id": "VmcACrrwF8hp"
      },
      "execution_count": 4,
      "outputs": []
    },
    {
      "cell_type": "code",
      "source": [
        "# This is our input image\n",
        "input_img = keras.Input(shape=(784,))"
      ],
      "metadata": {
        "id": "UW2Ql-PkGAZq"
      },
      "execution_count": 5,
      "outputs": []
    },
    {
      "cell_type": "code",
      "source": [
        "# \"encoded\" is the encoded representation of the input\n",
        "encoded = layers.Dense(encoding_dim, activation='relu')(input_img)"
      ],
      "metadata": {
        "id": "elphxvnzGCGJ"
      },
      "execution_count": 6,
      "outputs": []
    },
    {
      "cell_type": "code",
      "source": [
        "# \"decoded\" is the lossy reconstruction of the input\n",
        "decoded = layers.Dense(784, activation='sigmoid')(encoded)"
      ],
      "metadata": {
        "id": "J4wZ9s3wGGR6"
      },
      "execution_count": 7,
      "outputs": []
    },
    {
      "cell_type": "code",
      "source": [
        "# This model maps an input to its reconstruction\n",
        "autoencoder = keras.Model(input_img, decoded)\n",
        "autoencoder.layers"
      ],
      "metadata": {
        "colab": {
          "base_uri": "https://localhost:8080/"
        },
        "id": "3NRxtsnsGIzh",
        "outputId": "2e93f05e-68c6-4456-ca4c-c08d7158bb97"
      },
      "execution_count": 8,
      "outputs": [
        {
          "output_type": "execute_result",
          "data": {
            "text/plain": [
              "[<keras.src.engine.input_layer.InputLayer at 0x7d7f920f4130>,\n",
              " <keras.src.layers.core.dense.Dense at 0x7d7f0b006830>,\n",
              " <keras.src.layers.core.dense.Dense at 0x7d7f0b007400>]"
            ]
          },
          "metadata": {},
          "execution_count": 8
        }
      ]
    },
    {
      "cell_type": "code",
      "source": [
        "# This model maps an input to its encoded representation\n",
        "encoder = keras.Model(input_img, encoded)"
      ],
      "metadata": {
        "id": "k3ia8NCwGKwC"
      },
      "execution_count": 9,
      "outputs": []
    },
    {
      "cell_type": "code",
      "source": [
        "# This is our encoded (32-dimensional) input\n",
        "encoded_input = keras.Input(shape=(encoding_dim,))"
      ],
      "metadata": {
        "id": "YRmm9HfWGMqB"
      },
      "execution_count": 10,
      "outputs": []
    },
    {
      "cell_type": "code",
      "source": [
        "# Retrieve the last layer of the autoencoder model (output layer)\n",
        "decoder_layer = autoencoder.layers[-1]\n"
      ],
      "metadata": {
        "id": "jh2uzjBBGNfp"
      },
      "execution_count": 11,
      "outputs": []
    },
    {
      "cell_type": "code",
      "source": [
        "# Create the decoder model\n",
        "decoder = keras.Model(encoded_input, decoder_layer(encoded_input))"
      ],
      "metadata": {
        "id": "N7w42mSzGPP5"
      },
      "execution_count": 12,
      "outputs": []
    },
    {
      "cell_type": "code",
      "source": [
        "autoencoder.compile(optimizer='adam', loss='binary_crossentropy')"
      ],
      "metadata": {
        "id": "CwAO6tZRGRmi"
      },
      "execution_count": 13,
      "outputs": []
    },
    {
      "cell_type": "code",
      "source": [
        "from keras.datasets import mnist\n",
        "import numpy as np\n",
        "(x_train, _), (x_test, _) = mnist.load_data()\n",
        ""
      ],
      "metadata": {
        "colab": {
          "base_uri": "https://localhost:8080/"
        },
        "id": "SkqngO4mGTL5",
        "outputId": "5fbd1435-3449-4075-904d-57a3b3d14191"
      },
      "execution_count": 14,
      "outputs": [
        {
          "output_type": "stream",
          "name": "stdout",
          "text": [
            "Downloading data from https://storage.googleapis.com/tensorflow/tf-keras-datasets/mnist.npz\n",
            "11490434/11490434 [==============================] - 0s 0us/step\n"
          ]
        }
      ]
    },
    {
      "cell_type": "code",
      "source": [
        "x_train = x_train.astype('float32') / 255.\n",
        "x_test = x_test.astype('float32') / 255.\n",
        "x_train = x_train.reshape((len(x_train), np.prod(x_train.shape[1:])))\n",
        "x_test = x_test.reshape((len(x_test), np.prod(x_test.shape[1:])))\n",
        "print(x_train.shape)\n",
        "print(x_test.shape)"
      ],
      "metadata": {
        "colab": {
          "base_uri": "https://localhost:8080/"
        },
        "id": "aNQFq-UyGVqK",
        "outputId": "f0edc212-7473-47c3-ef79-b47720369cff"
      },
      "execution_count": 15,
      "outputs": [
        {
          "output_type": "stream",
          "name": "stdout",
          "text": [
            "(60000, 784)\n",
            "(10000, 784)\n"
          ]
        }
      ]
    },
    {
      "cell_type": "code",
      "source": [
        "autoencoder.fit(x_train, x_train,\n",
        "                epochs=40,\n",
        "                batch_size=256,\n",
        "                shuffle=True,\n",
        "                validation_data=(x_test, x_test))"
      ],
      "metadata": {
        "colab": {
          "base_uri": "https://localhost:8080/"
        },
        "id": "1-o_2yIJGWnJ",
        "outputId": "ac1ed84c-942d-4023-faae-7a5ece81671d"
      },
      "execution_count": 16,
      "outputs": [
        {
          "output_type": "stream",
          "name": "stdout",
          "text": [
            "Epoch 1/40\n",
            "235/235 [==============================] - 3s 10ms/step - loss: 0.2768 - val_loss: 0.1910\n",
            "Epoch 2/40\n",
            "235/235 [==============================] - 2s 10ms/step - loss: 0.1717 - val_loss: 0.1540\n",
            "Epoch 3/40\n",
            "235/235 [==============================] - 3s 14ms/step - loss: 0.1446 - val_loss: 0.1340\n",
            "Epoch 4/40\n",
            "235/235 [==============================] - 3s 14ms/step - loss: 0.1289 - val_loss: 0.1216\n",
            "Epoch 5/40\n",
            "235/235 [==============================] - 3s 13ms/step - loss: 0.1183 - val_loss: 0.1127\n",
            "Epoch 6/40\n",
            "235/235 [==============================] - 2s 10ms/step - loss: 0.1109 - val_loss: 0.1066\n",
            "Epoch 7/40\n",
            "235/235 [==============================] - 2s 9ms/step - loss: 0.1055 - val_loss: 0.1019\n",
            "Epoch 8/40\n",
            "235/235 [==============================] - 4s 19ms/step - loss: 0.1016 - val_loss: 0.0987\n",
            "Epoch 9/40\n",
            "235/235 [==============================] - 4s 19ms/step - loss: 0.0989 - val_loss: 0.0965\n",
            "Epoch 10/40\n",
            "235/235 [==============================] - 4s 17ms/step - loss: 0.0971 - val_loss: 0.0951\n",
            "Epoch 11/40\n",
            "235/235 [==============================] - 3s 13ms/step - loss: 0.0959 - val_loss: 0.0941\n",
            "Epoch 12/40\n",
            "235/235 [==============================] - 4s 15ms/step - loss: 0.0952 - val_loss: 0.0936\n",
            "Epoch 13/40\n",
            "235/235 [==============================] - 2s 11ms/step - loss: 0.0947 - val_loss: 0.0932\n",
            "Epoch 14/40\n",
            "235/235 [==============================] - 2s 9ms/step - loss: 0.0943 - val_loss: 0.0928\n",
            "Epoch 15/40\n",
            "235/235 [==============================] - 2s 10ms/step - loss: 0.0941 - val_loss: 0.0927\n",
            "Epoch 16/40\n",
            "235/235 [==============================] - 3s 11ms/step - loss: 0.0939 - val_loss: 0.0925\n",
            "Epoch 17/40\n",
            "235/235 [==============================] - 4s 16ms/step - loss: 0.0937 - val_loss: 0.0923\n",
            "Epoch 18/40\n",
            "235/235 [==============================] - 2s 10ms/step - loss: 0.0936 - val_loss: 0.0923\n",
            "Epoch 19/40\n",
            "235/235 [==============================] - 2s 10ms/step - loss: 0.0935 - val_loss: 0.0922\n",
            "Epoch 20/40\n",
            "235/235 [==============================] - 2s 9ms/step - loss: 0.0934 - val_loss: 0.0921\n",
            "Epoch 21/40\n",
            "235/235 [==============================] - 2s 9ms/step - loss: 0.0933 - val_loss: 0.0921\n",
            "Epoch 22/40\n",
            "235/235 [==============================] - 3s 14ms/step - loss: 0.0933 - val_loss: 0.0920\n",
            "Epoch 23/40\n",
            "235/235 [==============================] - 2s 10ms/step - loss: 0.0932 - val_loss: 0.0920\n",
            "Epoch 24/40\n",
            "235/235 [==============================] - 2s 10ms/step - loss: 0.0932 - val_loss: 0.0920\n",
            "Epoch 25/40\n",
            "235/235 [==============================] - 2s 10ms/step - loss: 0.0931 - val_loss: 0.0918\n",
            "Epoch 26/40\n",
            "235/235 [==============================] - 2s 10ms/step - loss: 0.0931 - val_loss: 0.0919\n",
            "Epoch 27/40\n",
            "235/235 [==============================] - 3s 14ms/step - loss: 0.0930 - val_loss: 0.0918\n",
            "Epoch 28/40\n",
            "235/235 [==============================] - 2s 10ms/step - loss: 0.0930 - val_loss: 0.0918\n",
            "Epoch 29/40\n",
            "235/235 [==============================] - 2s 9ms/step - loss: 0.0930 - val_loss: 0.0918\n",
            "Epoch 30/40\n",
            "235/235 [==============================] - 2s 8ms/step - loss: 0.0929 - val_loss: 0.0917\n",
            "Epoch 31/40\n",
            "235/235 [==============================] - 2s 9ms/step - loss: 0.0929 - val_loss: 0.0918\n",
            "Epoch 32/40\n",
            "235/235 [==============================] - 3s 12ms/step - loss: 0.0929 - val_loss: 0.0918\n",
            "Epoch 33/40\n",
            "235/235 [==============================] - 3s 14ms/step - loss: 0.0929 - val_loss: 0.0917\n",
            "Epoch 34/40\n",
            "235/235 [==============================] - 3s 12ms/step - loss: 0.0929 - val_loss: 0.0917\n",
            "Epoch 35/40\n",
            "235/235 [==============================] - 2s 10ms/step - loss: 0.0928 - val_loss: 0.0916\n",
            "Epoch 36/40\n",
            "235/235 [==============================] - 2s 9ms/step - loss: 0.0928 - val_loss: 0.0916\n",
            "Epoch 37/40\n",
            "235/235 [==============================] - 2s 10ms/step - loss: 0.0928 - val_loss: 0.0917\n",
            "Epoch 38/40\n",
            "235/235 [==============================] - 3s 11ms/step - loss: 0.0928 - val_loss: 0.0917\n",
            "Epoch 39/40\n",
            "235/235 [==============================] - 2s 10ms/step - loss: 0.0928 - val_loss: 0.0918\n",
            "Epoch 40/40\n",
            "235/235 [==============================] - 3s 12ms/step - loss: 0.0928 - val_loss: 0.0916\n"
          ]
        },
        {
          "output_type": "execute_result",
          "data": {
            "text/plain": [
              "<keras.src.callbacks.History at 0x7d7f08685b70>"
            ]
          },
          "metadata": {},
          "execution_count": 16
        }
      ]
    },
    {
      "cell_type": "code",
      "source": [
        "\n",
        "# Encode and decode some digits\n",
        "# Note that we take them from the *test* set\n",
        "encoded_imgs = encoder.predict(x_test)\n",
        "decoded_imgs = decoder.predict(encoded_imgs)"
      ],
      "metadata": {
        "colab": {
          "base_uri": "https://localhost:8080/"
        },
        "id": "QEhtSnMOGaCJ",
        "outputId": "b933e427-35d6-4fc7-8b47-7de10566fec0"
      },
      "execution_count": 18,
      "outputs": [
        {
          "output_type": "stream",
          "name": "stdout",
          "text": [
            "313/313 [==============================] - 1s 2ms/step\n",
            "313/313 [==============================] - 1s 2ms/step\n"
          ]
        }
      ]
    },
    {
      "cell_type": "code",
      "source": [
        "# Use Matplotlib (don't ask)\n",
        "import matplotlib.pyplot as plt\n",
        "\n",
        "n = 10  # How many digits we will display\n",
        "plt.figure(figsize=(20, 4))\n",
        "for i in range(n):\n",
        "    # Display original\n",
        "    ax = plt.subplot(2, n, i + 1)\n",
        "    plt.imshow(x_test[i].reshape(28, 28))\n",
        "    plt.gray()\n",
        "    ax.get_xaxis().set_visible(False)\n",
        "    ax.get_yaxis().set_visible(False)\n",
        "\n",
        "    # Display reconstruction\n",
        "    ax = plt.subplot(2, n, i + 1 + n)\n",
        "    plt.imshow(decoded_imgs[i].reshape(28, 28))\n",
        "    plt.gray()\n",
        "    ax.get_xaxis().set_visible(False)\n",
        "    ax.get_yaxis().set_visible(False)\n",
        "plt.show()\n",
        "\n"
      ],
      "metadata": {
        "colab": {
          "base_uri": "https://localhost:8080/",
          "height": 145
        },
        "id": "aSjqxOBPGbbS",
        "outputId": "80a84f88-c077-4db2-b302-626f4aeaff2a"
      },
      "execution_count": 19,
      "outputs": [
        {
          "output_type": "display_data",
          "data": {
            "text/plain": [
              "<Figure size 2000x400 with 20 Axes>"
            ],
            "image/png": "[encoded data removed]"
          },
          "metadata": {}
        }
      ]
    }
  ]
}